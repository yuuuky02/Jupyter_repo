{
 "cells": [
  {
   "cell_type": "code",
   "execution_count": 1,
   "id": "74753332-4656-409b-89ae-d1d9d70519eb",
   "metadata": {
    "scrolled": true
   },
   "outputs": [],
   "source": [
    "# 라이브러리 설치\n",
    "# !pip install pandas\n",
    "# !pip install numpy\n",
    "# !pip install matplotlib\n",
    "# !pip install seaborn\n",
    "# !pip install plotly\n",
    "# !pip install scipy\n",
    "# !pip install scikit-learn"
   ]
  },
  {
   "cell_type": "code",
   "execution_count": 2,
   "id": "6c5fd836-7f4c-418a-9c8a-11e0ef0c5eef",
   "metadata": {},
   "outputs": [],
   "source": [
    "# 라이브러리 불러오기\n",
    "import pandas as pd\n",
    "import numpy as np\n",
    "import matplotlib.pyplot as plt \n",
    "import seaborn as sns\n",
    "import datetime\n",
    "from scipy import stats\n",
    "from sklearn.cluster import KMeans\n",
    "from sklearn.preprocessing import StandardScaler\n",
    "import warnings\n",
    "warnings.filterwarnings(\"ignore\")"
   ]
  },
  {
   "cell_type": "code",
   "execution_count": 3,
   "id": "4856b57f-da82-4f5d-a241-eb2cefef76ff",
   "metadata": {},
   "outputs": [],
   "source": [
    "# 데이터 불러오기\n",
    "customers_df = pd.read_csv('data/olist_customers_dataset.csv') # 고객 정보\n",
    "geo_df = pd.read_csv('data/olist_geolocation_dataset.csv') # 고객의 위치 정보\n",
    "orderitem_df = pd.read_csv('data/olist_order_items_dataset.csv') # 주문 제품 정보\n",
    "orderpay_df = pd.read_csv('data/olist_order_payments_dataset.csv') # 결제 방법 정보\n",
    "orderreviews_df = pd.read_csv('data/olist_order_reviews_dataset.csv') # 고객 리뷰 정보\n",
    "orders_df = pd.read_csv('data/olist_orders_dataset.csv') # 주문 정보\n",
    "products_df = pd.read_csv('data/olist_products_dataset.csv') # 상품 정보\n",
    "sellers_df = pd.read_csv('data/olist_sellers_dataset.csv') # 판매자 정보\n",
    "categname_df = pd.read_csv('data/product_category_name_translation.csv') # 상품 카테고리의 포르투갈어에서 영어로의 번역 정보\n",
    "\n",
    "\n",
    "pd.set_option('display.max_columns', 500)"
   ]
  },
  {
   "cell_type": "code",
   "execution_count": 4,
   "id": "e2317f42-3ade-46eb-9806-dbc1a3875d1b",
   "metadata": {},
   "outputs": [],
   "source": [
    "# 열 이름 변경\n",
    "customers_df.rename(columns={\"customer_zip_code_prefix\": \"zip_code\"}, inplace=True)\n",
    "geo_df.rename(columns={\"geolocation_zip_code_prefix\": \"zip_code\"}, inplace=True)"
   ]
  },
  {
   "cell_type": "code",
   "execution_count": 5,
   "id": "4ff1cb00-4288-4aee-b4a0-fbaceacc55e9",
   "metadata": {},
   "outputs": [],
   "source": [
    "# 테이블 병합\n",
    "data = orders_df.merge(customers_df, on=\"customer_id\").merge(orderitem_df, on=\"order_id\").merge(products_df, on=\"product_id\").merge(categname_df, on=\"product_category_name\").merge(orderpay_df, on=\"order_id\").merge(sellers_df, on=\"seller_id\").merge(orderreviews_df, on=\"order_id\")"
   ]
  },
  {
   "cell_type": "code",
   "execution_count": 6,
   "id": "22bbf615-c672-4d81-9d83-9662bc7f0c26",
   "metadata": {
    "scrolled": true
   },
   "outputs": [
    {
     "data": {
      "text/html": [
       "<div>\n",
       "<style scoped>\n",
       "    .dataframe tbody tr th:only-of-type {\n",
       "        vertical-align: middle;\n",
       "    }\n",
       "\n",
       "    .dataframe tbody tr th {\n",
       "        vertical-align: top;\n",
       "    }\n",
       "\n",
       "    .dataframe thead th {\n",
       "        text-align: right;\n",
       "    }\n",
       "</style>\n",
       "<table border=\"1\" class=\"dataframe\">\n",
       "  <thead>\n",
       "    <tr style=\"text-align: right;\">\n",
       "      <th></th>\n",
       "      <th>order_id</th>\n",
       "      <th>customer_id</th>\n",
       "      <th>order_status</th>\n",
       "      <th>order_purchase_timestamp</th>\n",
       "      <th>order_approved_at</th>\n",
       "      <th>order_delivered_carrier_date</th>\n",
       "      <th>order_delivered_customer_date</th>\n",
       "      <th>order_estimated_delivery_date</th>\n",
       "      <th>customer_unique_id</th>\n",
       "      <th>zip_code</th>\n",
       "      <th>customer_city</th>\n",
       "      <th>customer_state</th>\n",
       "      <th>order_item_id</th>\n",
       "      <th>product_id</th>\n",
       "      <th>seller_id</th>\n",
       "      <th>shipping_limit_date</th>\n",
       "      <th>price</th>\n",
       "      <th>freight_value</th>\n",
       "      <th>product_category_name</th>\n",
       "      <th>product_name_lenght</th>\n",
       "      <th>product_description_lenght</th>\n",
       "      <th>product_photos_qty</th>\n",
       "      <th>product_weight_g</th>\n",
       "      <th>product_length_cm</th>\n",
       "      <th>product_height_cm</th>\n",
       "      <th>product_width_cm</th>\n",
       "      <th>product_category_name_english</th>\n",
       "      <th>payment_sequential</th>\n",
       "      <th>payment_type</th>\n",
       "      <th>payment_installments</th>\n",
       "      <th>payment_value</th>\n",
       "      <th>seller_zip_code_prefix</th>\n",
       "      <th>seller_city</th>\n",
       "      <th>seller_state</th>\n",
       "      <th>review_id</th>\n",
       "      <th>review_score</th>\n",
       "      <th>review_comment_title</th>\n",
       "      <th>review_comment_message</th>\n",
       "      <th>review_creation_date</th>\n",
       "      <th>review_answer_timestamp</th>\n",
       "    </tr>\n",
       "  </thead>\n",
       "  <tbody>\n",
       "    <tr>\n",
       "      <th>0</th>\n",
       "      <td>e481f51cbdc54678b7cc49136f2d6af7</td>\n",
       "      <td>9ef432eb6251297304e76186b10a928d</td>\n",
       "      <td>delivered</td>\n",
       "      <td>2017-10-02 10:56:33</td>\n",
       "      <td>2017-10-02 11:07:15</td>\n",
       "      <td>2017-10-04 19:55:00</td>\n",
       "      <td>2017-10-10 21:25:13</td>\n",
       "      <td>2017-10-18 00:00:00</td>\n",
       "      <td>7c396fd4830fd04220f754e42b4e5bff</td>\n",
       "      <td>3149</td>\n",
       "      <td>sao paulo</td>\n",
       "      <td>SP</td>\n",
       "      <td>1</td>\n",
       "      <td>87285b34884572647811a353c7ac498a</td>\n",
       "      <td>3504c0cb71d7fa48d967e0e4c94d59d9</td>\n",
       "      <td>2017-10-06 11:07:15</td>\n",
       "      <td>29.99</td>\n",
       "      <td>8.72</td>\n",
       "      <td>utilidades_domesticas</td>\n",
       "      <td>40.0</td>\n",
       "      <td>268.0</td>\n",
       "      <td>4.0</td>\n",
       "      <td>500.0</td>\n",
       "      <td>19.0</td>\n",
       "      <td>8.0</td>\n",
       "      <td>13.0</td>\n",
       "      <td>housewares</td>\n",
       "      <td>1</td>\n",
       "      <td>credit_card</td>\n",
       "      <td>1</td>\n",
       "      <td>18.12</td>\n",
       "      <td>9350</td>\n",
       "      <td>maua</td>\n",
       "      <td>SP</td>\n",
       "      <td>a54f0611adc9ed256b57ede6b6eb5114</td>\n",
       "      <td>4</td>\n",
       "      <td>NaN</td>\n",
       "      <td>Não testei o produto ainda, mas ele veio corre...</td>\n",
       "      <td>2017-10-11 00:00:00</td>\n",
       "      <td>2017-10-12 03:43:48</td>\n",
       "    </tr>\n",
       "    <tr>\n",
       "      <th>1</th>\n",
       "      <td>e481f51cbdc54678b7cc49136f2d6af7</td>\n",
       "      <td>9ef432eb6251297304e76186b10a928d</td>\n",
       "      <td>delivered</td>\n",
       "      <td>2017-10-02 10:56:33</td>\n",
       "      <td>2017-10-02 11:07:15</td>\n",
       "      <td>2017-10-04 19:55:00</td>\n",
       "      <td>2017-10-10 21:25:13</td>\n",
       "      <td>2017-10-18 00:00:00</td>\n",
       "      <td>7c396fd4830fd04220f754e42b4e5bff</td>\n",
       "      <td>3149</td>\n",
       "      <td>sao paulo</td>\n",
       "      <td>SP</td>\n",
       "      <td>1</td>\n",
       "      <td>87285b34884572647811a353c7ac498a</td>\n",
       "      <td>3504c0cb71d7fa48d967e0e4c94d59d9</td>\n",
       "      <td>2017-10-06 11:07:15</td>\n",
       "      <td>29.99</td>\n",
       "      <td>8.72</td>\n",
       "      <td>utilidades_domesticas</td>\n",
       "      <td>40.0</td>\n",
       "      <td>268.0</td>\n",
       "      <td>4.0</td>\n",
       "      <td>500.0</td>\n",
       "      <td>19.0</td>\n",
       "      <td>8.0</td>\n",
       "      <td>13.0</td>\n",
       "      <td>housewares</td>\n",
       "      <td>3</td>\n",
       "      <td>voucher</td>\n",
       "      <td>1</td>\n",
       "      <td>2.00</td>\n",
       "      <td>9350</td>\n",
       "      <td>maua</td>\n",
       "      <td>SP</td>\n",
       "      <td>a54f0611adc9ed256b57ede6b6eb5114</td>\n",
       "      <td>4</td>\n",
       "      <td>NaN</td>\n",
       "      <td>Não testei o produto ainda, mas ele veio corre...</td>\n",
       "      <td>2017-10-11 00:00:00</td>\n",
       "      <td>2017-10-12 03:43:48</td>\n",
       "    </tr>\n",
       "    <tr>\n",
       "      <th>2</th>\n",
       "      <td>e481f51cbdc54678b7cc49136f2d6af7</td>\n",
       "      <td>9ef432eb6251297304e76186b10a928d</td>\n",
       "      <td>delivered</td>\n",
       "      <td>2017-10-02 10:56:33</td>\n",
       "      <td>2017-10-02 11:07:15</td>\n",
       "      <td>2017-10-04 19:55:00</td>\n",
       "      <td>2017-10-10 21:25:13</td>\n",
       "      <td>2017-10-18 00:00:00</td>\n",
       "      <td>7c396fd4830fd04220f754e42b4e5bff</td>\n",
       "      <td>3149</td>\n",
       "      <td>sao paulo</td>\n",
       "      <td>SP</td>\n",
       "      <td>1</td>\n",
       "      <td>87285b34884572647811a353c7ac498a</td>\n",
       "      <td>3504c0cb71d7fa48d967e0e4c94d59d9</td>\n",
       "      <td>2017-10-06 11:07:15</td>\n",
       "      <td>29.99</td>\n",
       "      <td>8.72</td>\n",
       "      <td>utilidades_domesticas</td>\n",
       "      <td>40.0</td>\n",
       "      <td>268.0</td>\n",
       "      <td>4.0</td>\n",
       "      <td>500.0</td>\n",
       "      <td>19.0</td>\n",
       "      <td>8.0</td>\n",
       "      <td>13.0</td>\n",
       "      <td>housewares</td>\n",
       "      <td>2</td>\n",
       "      <td>voucher</td>\n",
       "      <td>1</td>\n",
       "      <td>18.59</td>\n",
       "      <td>9350</td>\n",
       "      <td>maua</td>\n",
       "      <td>SP</td>\n",
       "      <td>a54f0611adc9ed256b57ede6b6eb5114</td>\n",
       "      <td>4</td>\n",
       "      <td>NaN</td>\n",
       "      <td>Não testei o produto ainda, mas ele veio corre...</td>\n",
       "      <td>2017-10-11 00:00:00</td>\n",
       "      <td>2017-10-12 03:43:48</td>\n",
       "    </tr>\n",
       "  </tbody>\n",
       "</table>\n",
       "</div>"
      ],
      "text/plain": [
       "                           order_id                       customer_id  \\\n",
       "0  e481f51cbdc54678b7cc49136f2d6af7  9ef432eb6251297304e76186b10a928d   \n",
       "1  e481f51cbdc54678b7cc49136f2d6af7  9ef432eb6251297304e76186b10a928d   \n",
       "2  e481f51cbdc54678b7cc49136f2d6af7  9ef432eb6251297304e76186b10a928d   \n",
       "\n",
       "  order_status order_purchase_timestamp    order_approved_at  \\\n",
       "0    delivered      2017-10-02 10:56:33  2017-10-02 11:07:15   \n",
       "1    delivered      2017-10-02 10:56:33  2017-10-02 11:07:15   \n",
       "2    delivered      2017-10-02 10:56:33  2017-10-02 11:07:15   \n",
       "\n",
       "  order_delivered_carrier_date order_delivered_customer_date  \\\n",
       "0          2017-10-04 19:55:00           2017-10-10 21:25:13   \n",
       "1          2017-10-04 19:55:00           2017-10-10 21:25:13   \n",
       "2          2017-10-04 19:55:00           2017-10-10 21:25:13   \n",
       "\n",
       "  order_estimated_delivery_date                customer_unique_id  zip_code  \\\n",
       "0           2017-10-18 00:00:00  7c396fd4830fd04220f754e42b4e5bff      3149   \n",
       "1           2017-10-18 00:00:00  7c396fd4830fd04220f754e42b4e5bff      3149   \n",
       "2           2017-10-18 00:00:00  7c396fd4830fd04220f754e42b4e5bff      3149   \n",
       "\n",
       "  customer_city customer_state  order_item_id  \\\n",
       "0     sao paulo             SP              1   \n",
       "1     sao paulo             SP              1   \n",
       "2     sao paulo             SP              1   \n",
       "\n",
       "                         product_id                         seller_id  \\\n",
       "0  87285b34884572647811a353c7ac498a  3504c0cb71d7fa48d967e0e4c94d59d9   \n",
       "1  87285b34884572647811a353c7ac498a  3504c0cb71d7fa48d967e0e4c94d59d9   \n",
       "2  87285b34884572647811a353c7ac498a  3504c0cb71d7fa48d967e0e4c94d59d9   \n",
       "\n",
       "   shipping_limit_date  price  freight_value  product_category_name  \\\n",
       "0  2017-10-06 11:07:15  29.99           8.72  utilidades_domesticas   \n",
       "1  2017-10-06 11:07:15  29.99           8.72  utilidades_domesticas   \n",
       "2  2017-10-06 11:07:15  29.99           8.72  utilidades_domesticas   \n",
       "\n",
       "   product_name_lenght  product_description_lenght  product_photos_qty  \\\n",
       "0                 40.0                       268.0                 4.0   \n",
       "1                 40.0                       268.0                 4.0   \n",
       "2                 40.0                       268.0                 4.0   \n",
       "\n",
       "   product_weight_g  product_length_cm  product_height_cm  product_width_cm  \\\n",
       "0             500.0               19.0                8.0              13.0   \n",
       "1             500.0               19.0                8.0              13.0   \n",
       "2             500.0               19.0                8.0              13.0   \n",
       "\n",
       "  product_category_name_english  payment_sequential payment_type  \\\n",
       "0                    housewares                   1  credit_card   \n",
       "1                    housewares                   3      voucher   \n",
       "2                    housewares                   2      voucher   \n",
       "\n",
       "   payment_installments  payment_value  seller_zip_code_prefix seller_city  \\\n",
       "0                     1          18.12                    9350        maua   \n",
       "1                     1           2.00                    9350        maua   \n",
       "2                     1          18.59                    9350        maua   \n",
       "\n",
       "  seller_state                         review_id  review_score  \\\n",
       "0           SP  a54f0611adc9ed256b57ede6b6eb5114             4   \n",
       "1           SP  a54f0611adc9ed256b57ede6b6eb5114             4   \n",
       "2           SP  a54f0611adc9ed256b57ede6b6eb5114             4   \n",
       "\n",
       "  review_comment_title                             review_comment_message  \\\n",
       "0                  NaN  Não testei o produto ainda, mas ele veio corre...   \n",
       "1                  NaN  Não testei o produto ainda, mas ele veio corre...   \n",
       "2                  NaN  Não testei o produto ainda, mas ele veio corre...   \n",
       "\n",
       "  review_creation_date review_answer_timestamp  \n",
       "0  2017-10-11 00:00:00     2017-10-12 03:43:48  \n",
       "1  2017-10-11 00:00:00     2017-10-12 03:43:48  \n",
       "2  2017-10-11 00:00:00     2017-10-12 03:43:48  "
      ]
     },
     "execution_count": 6,
     "metadata": {},
     "output_type": "execute_result"
    }
   ],
   "source": [
    "data.head(3)"
   ]
  },
  {
   "cell_type": "markdown",
   "id": "a504a1f6-cd83-486f-b13a-555cedb462d1",
   "metadata": {},
   "source": [
    "중복된 order_ids가 있습니다. 이는 동일한 주문을 여러 결제 수단으로 결제할 수 있기 때문입니다."
   ]
  },
  {
   "cell_type": "code",
   "execution_count": 7,
   "id": "2d2934f5-baa5-49b1-8055-1779d12dc60e",
   "metadata": {},
   "outputs": [
    {
     "data": {
      "text/plain": [
       "review_comment_title             0.880623\n",
       "review_comment_message           0.576971\n",
       "order_delivered_customer_date    0.020760\n",
       "order_delivered_carrier_date     0.010337\n",
       "order_approved_at                0.000121\n",
       "product_length_cm                0.000009\n",
       "product_weight_g                 0.000009\n",
       "product_width_cm                 0.000009\n",
       "product_height_cm                0.000009\n",
       "order_estimated_delivery_date    0.000000\n",
       "order_status                     0.000000\n",
       "order_purchase_timestamp         0.000000\n",
       "order_id                         0.000000\n",
       "customer_id                      0.000000\n",
       "customer_unique_id               0.000000\n",
       "zip_code                         0.000000\n",
       "shipping_limit_date              0.000000\n",
       "seller_id                        0.000000\n",
       "price                            0.000000\n",
       "freight_value                    0.000000\n",
       "order_item_id                    0.000000\n",
       "product_id                       0.000000\n",
       "customer_city                    0.000000\n",
       "customer_state                   0.000000\n",
       "product_description_lenght       0.000000\n",
       "product_photos_qty               0.000000\n",
       "product_category_name            0.000000\n",
       "product_name_lenght              0.000000\n",
       "payment_type                     0.000000\n",
       "payment_installments             0.000000\n",
       "product_category_name_english    0.000000\n",
       "payment_sequential               0.000000\n",
       "seller_zip_code_prefix           0.000000\n",
       "payment_value                    0.000000\n",
       "seller_city                      0.000000\n",
       "seller_state                     0.000000\n",
       "review_score                     0.000000\n",
       "review_id                        0.000000\n",
       "review_creation_date             0.000000\n",
       "review_answer_timestamp          0.000000\n",
       "dtype: float64"
      ]
     },
     "execution_count": 7,
     "metadata": {},
     "output_type": "execute_result"
    }
   ],
   "source": [
    "# Null 값 비율 확인\n",
    "\n",
    "(data.isna().sum() / len(data) ).sort_values(ascending=False)"
   ]
  },
  {
   "cell_type": "code",
   "execution_count": 8,
   "id": "09fdc3ed-0c78-426f-bba8-0625a13f6972",
   "metadata": {
    "scrolled": true
   },
   "outputs": [
    {
     "data": {
      "text/html": [
       "<div>\n",
       "<style scoped>\n",
       "    .dataframe tbody tr th:only-of-type {\n",
       "        vertical-align: middle;\n",
       "    }\n",
       "\n",
       "    .dataframe tbody tr th {\n",
       "        vertical-align: top;\n",
       "    }\n",
       "\n",
       "    .dataframe thead th {\n",
       "        text-align: right;\n",
       "    }\n",
       "</style>\n",
       "<table border=\"1\" class=\"dataframe\">\n",
       "  <thead>\n",
       "    <tr style=\"text-align: right;\">\n",
       "      <th></th>\n",
       "      <th>zip_code</th>\n",
       "      <th>order_item_id</th>\n",
       "      <th>price</th>\n",
       "      <th>freight_value</th>\n",
       "      <th>product_name_lenght</th>\n",
       "      <th>product_description_lenght</th>\n",
       "      <th>product_photos_qty</th>\n",
       "      <th>product_weight_g</th>\n",
       "      <th>product_length_cm</th>\n",
       "      <th>product_height_cm</th>\n",
       "      <th>product_width_cm</th>\n",
       "      <th>payment_sequential</th>\n",
       "      <th>payment_installments</th>\n",
       "      <th>payment_value</th>\n",
       "      <th>seller_zip_code_prefix</th>\n",
       "      <th>review_score</th>\n",
       "    </tr>\n",
       "  </thead>\n",
       "  <tbody>\n",
       "    <tr>\n",
       "      <th>count</th>\n",
       "      <td>115609.000000</td>\n",
       "      <td>115609.000000</td>\n",
       "      <td>115609.000000</td>\n",
       "      <td>115609.000000</td>\n",
       "      <td>115609.000000</td>\n",
       "      <td>115609.000000</td>\n",
       "      <td>115609.000000</td>\n",
       "      <td>115608.000000</td>\n",
       "      <td>115608.000000</td>\n",
       "      <td>115608.000000</td>\n",
       "      <td>115608.000000</td>\n",
       "      <td>115609.000000</td>\n",
       "      <td>115609.000000</td>\n",
       "      <td>115609.000000</td>\n",
       "      <td>115609.000000</td>\n",
       "      <td>115609.000000</td>\n",
       "    </tr>\n",
       "    <tr>\n",
       "      <th>mean</th>\n",
       "      <td>35061.537597</td>\n",
       "      <td>1.194535</td>\n",
       "      <td>120.619850</td>\n",
       "      <td>20.056880</td>\n",
       "      <td>48.766541</td>\n",
       "      <td>785.808198</td>\n",
       "      <td>2.205373</td>\n",
       "      <td>2113.907697</td>\n",
       "      <td>30.307903</td>\n",
       "      <td>16.638477</td>\n",
       "      <td>23.113167</td>\n",
       "      <td>1.093747</td>\n",
       "      <td>2.946233</td>\n",
       "      <td>172.387379</td>\n",
       "      <td>24515.713958</td>\n",
       "      <td>4.034409</td>\n",
       "    </tr>\n",
       "    <tr>\n",
       "      <th>std</th>\n",
       "      <td>29841.671732</td>\n",
       "      <td>0.685926</td>\n",
       "      <td>182.653476</td>\n",
       "      <td>15.836184</td>\n",
       "      <td>10.034187</td>\n",
       "      <td>652.418619</td>\n",
       "      <td>1.717771</td>\n",
       "      <td>3781.754895</td>\n",
       "      <td>16.211108</td>\n",
       "      <td>13.473570</td>\n",
       "      <td>11.755083</td>\n",
       "      <td>0.729849</td>\n",
       "      <td>2.781087</td>\n",
       "      <td>265.873969</td>\n",
       "      <td>27636.640968</td>\n",
       "      <td>1.385584</td>\n",
       "    </tr>\n",
       "    <tr>\n",
       "      <th>min</th>\n",
       "      <td>1003.000000</td>\n",
       "      <td>1.000000</td>\n",
       "      <td>0.850000</td>\n",
       "      <td>0.000000</td>\n",
       "      <td>5.000000</td>\n",
       "      <td>4.000000</td>\n",
       "      <td>1.000000</td>\n",
       "      <td>0.000000</td>\n",
       "      <td>7.000000</td>\n",
       "      <td>2.000000</td>\n",
       "      <td>6.000000</td>\n",
       "      <td>1.000000</td>\n",
       "      <td>0.000000</td>\n",
       "      <td>0.000000</td>\n",
       "      <td>1001.000000</td>\n",
       "      <td>1.000000</td>\n",
       "    </tr>\n",
       "    <tr>\n",
       "      <th>25%</th>\n",
       "      <td>11310.000000</td>\n",
       "      <td>1.000000</td>\n",
       "      <td>39.900000</td>\n",
       "      <td>13.080000</td>\n",
       "      <td>42.000000</td>\n",
       "      <td>346.000000</td>\n",
       "      <td>1.000000</td>\n",
       "      <td>300.000000</td>\n",
       "      <td>18.000000</td>\n",
       "      <td>8.000000</td>\n",
       "      <td>15.000000</td>\n",
       "      <td>1.000000</td>\n",
       "      <td>1.000000</td>\n",
       "      <td>60.870000</td>\n",
       "      <td>6429.000000</td>\n",
       "      <td>4.000000</td>\n",
       "    </tr>\n",
       "    <tr>\n",
       "      <th>50%</th>\n",
       "      <td>24241.000000</td>\n",
       "      <td>1.000000</td>\n",
       "      <td>74.900000</td>\n",
       "      <td>16.320000</td>\n",
       "      <td>52.000000</td>\n",
       "      <td>600.000000</td>\n",
       "      <td>1.000000</td>\n",
       "      <td>700.000000</td>\n",
       "      <td>25.000000</td>\n",
       "      <td>13.000000</td>\n",
       "      <td>20.000000</td>\n",
       "      <td>1.000000</td>\n",
       "      <td>2.000000</td>\n",
       "      <td>108.050000</td>\n",
       "      <td>13660.000000</td>\n",
       "      <td>5.000000</td>\n",
       "    </tr>\n",
       "    <tr>\n",
       "      <th>75%</th>\n",
       "      <td>58745.000000</td>\n",
       "      <td>1.000000</td>\n",
       "      <td>134.900000</td>\n",
       "      <td>21.210000</td>\n",
       "      <td>57.000000</td>\n",
       "      <td>983.000000</td>\n",
       "      <td>3.000000</td>\n",
       "      <td>1800.000000</td>\n",
       "      <td>38.000000</td>\n",
       "      <td>20.000000</td>\n",
       "      <td>30.000000</td>\n",
       "      <td>1.000000</td>\n",
       "      <td>4.000000</td>\n",
       "      <td>189.480000</td>\n",
       "      <td>28605.000000</td>\n",
       "      <td>5.000000</td>\n",
       "    </tr>\n",
       "    <tr>\n",
       "      <th>max</th>\n",
       "      <td>99980.000000</td>\n",
       "      <td>21.000000</td>\n",
       "      <td>6735.000000</td>\n",
       "      <td>409.680000</td>\n",
       "      <td>76.000000</td>\n",
       "      <td>3992.000000</td>\n",
       "      <td>20.000000</td>\n",
       "      <td>40425.000000</td>\n",
       "      <td>105.000000</td>\n",
       "      <td>105.000000</td>\n",
       "      <td>118.000000</td>\n",
       "      <td>29.000000</td>\n",
       "      <td>24.000000</td>\n",
       "      <td>13664.080000</td>\n",
       "      <td>99730.000000</td>\n",
       "      <td>5.000000</td>\n",
       "    </tr>\n",
       "  </tbody>\n",
       "</table>\n",
       "</div>"
      ],
      "text/plain": [
       "            zip_code  order_item_id          price  freight_value  \\\n",
       "count  115609.000000  115609.000000  115609.000000  115609.000000   \n",
       "mean    35061.537597       1.194535     120.619850      20.056880   \n",
       "std     29841.671732       0.685926     182.653476      15.836184   \n",
       "min      1003.000000       1.000000       0.850000       0.000000   \n",
       "25%     11310.000000       1.000000      39.900000      13.080000   \n",
       "50%     24241.000000       1.000000      74.900000      16.320000   \n",
       "75%     58745.000000       1.000000     134.900000      21.210000   \n",
       "max     99980.000000      21.000000    6735.000000     409.680000   \n",
       "\n",
       "       product_name_lenght  product_description_lenght  product_photos_qty  \\\n",
       "count        115609.000000               115609.000000       115609.000000   \n",
       "mean             48.766541                  785.808198            2.205373   \n",
       "std              10.034187                  652.418619            1.717771   \n",
       "min               5.000000                    4.000000            1.000000   \n",
       "25%              42.000000                  346.000000            1.000000   \n",
       "50%              52.000000                  600.000000            1.000000   \n",
       "75%              57.000000                  983.000000            3.000000   \n",
       "max              76.000000                 3992.000000           20.000000   \n",
       "\n",
       "       product_weight_g  product_length_cm  product_height_cm  \\\n",
       "count     115608.000000      115608.000000      115608.000000   \n",
       "mean        2113.907697          30.307903          16.638477   \n",
       "std         3781.754895          16.211108          13.473570   \n",
       "min            0.000000           7.000000           2.000000   \n",
       "25%          300.000000          18.000000           8.000000   \n",
       "50%          700.000000          25.000000          13.000000   \n",
       "75%         1800.000000          38.000000          20.000000   \n",
       "max        40425.000000         105.000000         105.000000   \n",
       "\n",
       "       product_width_cm  payment_sequential  payment_installments  \\\n",
       "count     115608.000000       115609.000000         115609.000000   \n",
       "mean          23.113167            1.093747              2.946233   \n",
       "std           11.755083            0.729849              2.781087   \n",
       "min            6.000000            1.000000              0.000000   \n",
       "25%           15.000000            1.000000              1.000000   \n",
       "50%           20.000000            1.000000              2.000000   \n",
       "75%           30.000000            1.000000              4.000000   \n",
       "max          118.000000           29.000000             24.000000   \n",
       "\n",
       "       payment_value  seller_zip_code_prefix   review_score  \n",
       "count  115609.000000           115609.000000  115609.000000  \n",
       "mean      172.387379            24515.713958       4.034409  \n",
       "std       265.873969            27636.640968       1.385584  \n",
       "min         0.000000             1001.000000       1.000000  \n",
       "25%        60.870000             6429.000000       4.000000  \n",
       "50%       108.050000            13660.000000       5.000000  \n",
       "75%       189.480000            28605.000000       5.000000  \n",
       "max     13664.080000            99730.000000       5.000000  "
      ]
     },
     "execution_count": 8,
     "metadata": {},
     "output_type": "execute_result"
    }
   ],
   "source": [
    "# Main stats\n",
    "data.describe()"
   ]
  },
  {
   "cell_type": "markdown",
   "id": "40a952c2-f26c-4cd1-a2e0-1ee12cdce9cb",
   "metadata": {},
   "source": [
    "## 리뷰 점수는 어떻게 분포되어 있나요?"
   ]
  },
  {
   "cell_type": "code",
   "execution_count": null,
   "id": "317b21df-80a1-4893-9466-ce32988c01ab",
   "metadata": {},
   "outputs": [],
   "source": [
    "sns.countplot(data.sample(10000)[\"review_score\"])\n",
    "data[\"review_score\"].value_counts() / data[\"review_score\"].count() * 100"
   ]
  },
  {
   "cell_type": "markdown",
   "id": "21b2dc01-75aa-4a01-adc5-3a49a8611593",
   "metadata": {},
   "source": [
    "고객의 75% 이상이 4점 이상의 점수를 주었으며, 약 12.5%는 1점을 주었고, 나머지 약 12%는 3점 또는 2점을 주었습니다."
   ]
  },
  {
   "cell_type": "markdown",
   "id": "6e35d77b-a1dd-446a-bb4e-06662bbc0b36",
   "metadata": {},
   "source": [
    "## 대부분의 수익을 발생시키는 고객 비율:"
   ]
  },
  {
   "cell_type": "code",
   "execution_count": null,
   "id": "ba43593c-52d2-4e6f-80d8-9fd51d9647bc",
   "metadata": {},
   "outputs": [],
   "source": [
    "top_customers = data.groupby(\"customer_unique_id\")[\"payment_value\"].sum().reset_index().sort_values(\"payment_value\", ascending=False)\n",
    "top_customers.rename(columns={\"payment_value\":\"total_paid\"}, inplace=True)"
   ]
  },
  {
   "cell_type": "code",
   "execution_count": null,
   "id": "91f881f8-b9d3-419c-88a4-262c54a0cc17",
   "metadata": {},
   "outputs": [],
   "source": [
    "top_customers[\"% of Total Sales\"] = (top_customers[\"total_paid\"] / top_customers[\"total_paid\"].sum()) * 100\n",
    "top_customers[\"Cum % of Total Sales\"] = top_customers[\"% of Total Sales\"].cumsum() \n",
    "#sns.displot(top_customers[\"Cum % of Total Sales\"])\n",
    "ax = sns.lineplot(x=range(1,len(top_customers)+1), y=\"Cum % of Total Sales\", data=top_customers)\n",
    "ax.set_xlabel(\"N° of Customers\")\n",
    "ax.set_title(\"% Contribution to Sales by number of customers\")"
   ]
  },
  {
   "cell_type": "markdown",
   "id": "185bb4f0-7711-4488-95ca-e05c55912b94",
   "metadata": {},
   "source": [
    "40000명의 고객(전체 고객의 약 42%)이 전체 매출의 약 80%를 차지합니다."
   ]
  },
  {
   "cell_type": "code",
   "execution_count": null,
   "id": "e75294c9-c755-4cb9-922a-bc5d4b2344d2",
   "metadata": {},
   "outputs": [],
   "source": [
    "print(\"hello\")"
   ]
  },
  {
   "cell_type": "markdown",
   "id": "802af045-9a50-4502-81fe-a2125718d940",
   "metadata": {},
   "source": [
    "## 1등 고객은 누구인가?"
   ]
  },
  {
   "cell_type": "code",
   "execution_count": null,
   "id": "ac6175d0-a359-48f8-89a5-3fff25e14917",
   "metadata": {},
   "outputs": [],
   "source": [
    "top_customers.rename(columns={\"payment_value\" : \"total_paid\"}, inplace=True)\n",
    "ax = sns.barplot(x=\"total_paid\", y=\"customer_unique_id\", data=top_customers[:10])\n",
    "ax.set_title(\"Top 10 Customers by total paid\")"
   ]
  },
  {
   "cell_type": "markdown",
   "id": "1fea3aa4-1722-42c8-8345-a2c71624172d",
   "metadata": {},
   "source": [
    "## Top cites by number of orders by state"
   ]
  },
  {
   "cell_type": "code",
   "execution_count": null,
   "id": "4517bb40-be07-4bf7-9d48-90800c0001fc",
   "metadata": {},
   "outputs": [],
   "source": [
    "top_orders_cities = data.groupby(\"customer_state\")[\"order_id\"].count().reset_index().sort_values(\"order_id\", ascending=False)\n",
    "top_orders_cities.rename(columns={\"order_id\":\"count\"}, inplace=True)\n",
    "ax = sns.barplot(x=\"count\", y=\"customer_state\", data=top_orders_cities[:10])\n",
    "ax.set_title(\"TOP 10 states by num of orders\")"
   ]
  },
  {
   "cell_type": "markdown",
   "id": "139c29bd-97d7-4ec7-af00-20ddf5c54739",
   "metadata": {},
   "source": [
    "## Cities with highest revenue generation"
   ]
  },
  {
   "cell_type": "code",
   "execution_count": null,
   "id": "15e40e3c-cbe3-4a9b-a523-4e214ac4dd06",
   "metadata": {},
   "outputs": [],
   "source": [
    "top_ordersbyvalue_cities = data.groupby(\"customer_city\")[\"payment_value\"].sum().reset_index().sort_values(\"payment_value\", ascending=False)\n",
    "top_ordersbyvalue_cities[\"% of Total Payments\"] = (top_ordersbyvalue_cities[\"payment_value\"] / top_ordersbyvalue_cities[\"payment_value\"].sum()) * 100\n",
    "top_ordersbyvalue_cities[\"Cum % of Total Payments\"] = top_ordersbyvalue_cities[\"% of Total Payments\"].cumsum() "
   ]
  },
  {
   "cell_type": "code",
   "execution_count": null,
   "id": "0baaa46d-5973-4735-97a0-323ca4b023c7",
   "metadata": {},
   "outputs": [],
   "source": [
    "ax = sns.barplot(x=\"% of Total Payments\", y=\"customer_city\", data=top_ordersbyvalue_cities[:10])\n",
    "ax.set_title(\"TOP 10 cities by revenue generation\")"
   ]
  },
  {
   "cell_type": "code",
   "execution_count": null,
   "id": "67c5ff44-30fe-4c9f-8dc9-31451c2cdcc7",
   "metadata": {},
   "outputs": [],
   "source": [
    "ax = sns.lineplot(x=range(1,len(top_ordersbyvalue_cities)+1), y=\"Cum % of Total Payments\", data=top_ordersbyvalue_cities)\n",
    "ax.set_xlabel(\"N° of cities\")\n",
    "ax.set_title(\"% Contribution to Sales by number of cities\")"
   ]
  },
  {
   "cell_type": "code",
   "execution_count": null,
   "id": "a56b4cff-e591-42c7-a33e-f15e6456ac60",
   "metadata": {},
   "outputs": [],
   "source": [
    "print(\"Number of cities contributing to 80% of total sales:\",\n",
    "      len(top_ordersbyvalue_cities[top_ordersbyvalue_cities[\"Cum % of Total Payments\"] <= 80]),\n",
    "      \"or in %:\",\n",
    "      (len(top_ordersbyvalue_cities[top_ordersbyvalue_cities[\"Cum % of Total Payments\"] <= 80]) / len(top_ordersbyvalue_cities)) * 100)"
   ]
  },
  {
   "cell_type": "markdown",
   "id": "8acfe0ee-7886-403b-8662-0440be8b77a7",
   "metadata": {},
   "source": [
    "## How do orders vary across time?"
   ]
  },
  {
   "cell_type": "code",
   "execution_count": null,
   "id": "aa5ac422-bf4c-4348-bcca-c94e0cddc8cd",
   "metadata": {},
   "outputs": [],
   "source": [
    "# Total orders by hour and dow\n",
    "# But before I need to convert the dates cols to datetime \n",
    "datesCols = [\"order_purchase_timestamp\", \"order_approved_at\", \"order_delivered_carrier_date\", \n",
    "            \"order_delivered_customer_date\", \"order_estimated_delivery_date\", \"shipping_limit_date\", \n",
    "            \"review_creation_date\", \"review_answer_timestamp\"]\n",
    "\n",
    "for col in datesCols:\n",
    "    data[col] = pd.to_datetime(data[col])"
   ]
  },
  {
   "cell_type": "code",
   "execution_count": null,
   "id": "980ea667-3e0f-4787-bea4-799cc7bfca70",
   "metadata": {},
   "outputs": [],
   "source": [
    "\n",
    "# Orders by hour\n",
    "orders_df[\"order_purchase_timestamp\"] = pd.to_datetime(orders_df[\"order_purchase_timestamp\"])\n",
    "orderbyhour = orders_df.groupby(orders_df[\"order_purchase_timestamp\"].dt.hour)[\"order_id\"].count().reset_index().sort_values(by=\"order_purchase_timestamp\", ascending=False)\n",
    "orderbyhour.rename(columns={\"order_id\":\"Total Orders\", \"order_purchase_timestamp\": \"Hour of Day\"}, inplace=True)"
   ]
  },
  {
   "cell_type": "code",
   "execution_count": null,
   "id": "62ec1c1c-84bc-40aa-b24b-0682bd07a9d4",
   "metadata": {},
   "outputs": [],
   "source": [
    "# Visualize data\n",
    "ax = sns.barplot(x=\"Hour of Day\", y=\"Total Orders\", data=orderbyhour)\n",
    "ax.set_title(\"N° of Orders by hour\")"
   ]
  },
  {
   "cell_type": "code",
   "execution_count": null,
   "id": "826e0fc6-e51d-4e4c-828c-ec4dbf073fc4",
   "metadata": {},
   "outputs": [],
   "source": [
    "# Orders by day of the week\n",
    "orderbydow = data.groupby(data[\"order_purchase_timestamp\"].dt.day_name())[\"order_id\"].count().reset_index()\n",
    "orderbydow.rename(columns={\"order_id\":\"Total Orders\", \"order_purchase_timestamp\": \"Weekday Name\"}, inplace=True)\n",
    "orderbydow = orderbydow.sort_values(by=\"Total Orders\", ascending=False)"
   ]
  },
  {
   "cell_type": "code",
   "execution_count": null,
   "id": "f16cd42c-e6f7-4b2a-bcf3-a81f98fe45ce",
   "metadata": {},
   "outputs": [],
   "source": [
    "plt.figure(figsize = (9,8))\n",
    "ax = sns.barplot(x=\"Weekday Name\", y=\"Total Orders\", data=orderbydow)\n",
    "ax.set_xlabel('')\n",
    "ax.set_title(\"N° of Orders by DOW\")"
   ]
  },
  {
   "cell_type": "markdown",
   "id": "20ad0c26-a4fb-4cc5-b697-8f4d93717957",
   "metadata": {},
   "source": [
    "## How products are rated ?"
   ]
  },
  {
   "cell_type": "code",
   "execution_count": null,
   "id": "d724fec1-0523-4b1e-b6e3-3e7da1233718",
   "metadata": {},
   "outputs": [],
   "source": [
    "# Best and worst rated products\n",
    "plt.figure(figsize=(12,12))\n",
    "reviewsocres = data.groupby(\"product_category_name_english\")[\"review_score\"].agg([\"mean\", \"count\"]).sort_values(by=\"mean\",ascending=False)\n",
    "#ax = sns.barplot(y=bestrated.index, x=bestrated.values)\n",
    "# Get only products with 30 or more reviews in order to have a more realistic idea about the rating\n",
    "bestrated = reviewsocres[reviewsocres[\"count\"]>=30][:10]\n",
    "bestrated"
   ]
  },
  {
   "cell_type": "code",
   "execution_count": null,
   "id": "31705bcd-db46-42f5-9e5b-b3602ff8d081",
   "metadata": {},
   "outputs": [],
   "source": [
    "# Bottom 10 Products by review socre\n",
    "worstrated = reviewsocres[reviewsocres[\"count\"]>=30].sort_values(by='mean')[:10]\n",
    "worstrated"
   ]
  },
  {
   "cell_type": "markdown",
   "id": "2285c887-22f3-4f56-bf40-dba51e1443a3",
   "metadata": {},
   "source": [
    "## Does payment method affect order status?"
   ]
  },
  {
   "cell_type": "code",
   "execution_count": null,
   "id": "41f15c97-f046-4d58-9dbf-55dd868feadf",
   "metadata": {},
   "outputs": [],
   "source": [
    "# For example: does paying cash increase order cancelation\n",
    "cashvscancel = pd.crosstab(data[\"payment_type\"], data[\"order_status\"])\n",
    "cashvscancel = cashvscancel[[\"canceled\", \"delivered\"]]\n",
    "cashvscancel[\"% Canceled\"] = (cashvscancel[\"canceled\"] / cashvscancel[\"delivered\"] ) * 100\n",
    "cashvscancel[\"Avg Cancelation Rate\"] = (len(data[data[\"order_status\"] == \"canceled\"]) / len(data[data[\"order_status\"] == \"delivered\"])) * 100\n",
    "cashvscancel"
   ]
  },
  {
   "cell_type": "markdown",
   "id": "8622d447-df82-488d-8b06-3ba2a27a56ac",
   "metadata": {},
   "source": [
    "## Is there any relationship between delivery time and review scores"
   ]
  },
  {
   "cell_type": "code",
   "execution_count": null,
   "id": "f66a072d-1f3e-418f-b263-91a67ba058d4",
   "metadata": {},
   "outputs": [],
   "source": [
    "# Add delta column which computes the time it took for the order to get delivered\n",
    "data[\"TimeToDeliveryinHours\"] = (data[\"order_delivered_customer_date\"] - data[\"order_purchase_timestamp\"])\n",
    "data[\"TimeToDeliveryinHours\"] = data[\"TimeToDeliveryinHours\"].apply(lambda x: x.total_seconds())\n",
    "data[\"TimeToDeliveryinHours\"] = round((data[\"TimeToDeliveryinHours\"] / 3600) / 24, 2)\n",
    "data.rename(columns={\"TimeToDeliveryinHours\" : \"TimeToDeliveryinDays\"}, inplace=True)"
   ]
  },
  {
   "cell_type": "code",
   "execution_count": null,
   "id": "f529e9cc-ba1e-4a90-890d-6d1cdd530bd9",
   "metadata": {},
   "outputs": [],
   "source": [
    "# Main stats of deliverytime\n",
    "data[[\"TimeToDeliveryinDays\"]].describe()"
   ]
  },
  {
   "cell_type": "code",
   "execution_count": null,
   "id": "5e02cae0-d860-479e-b1ab-7d047f91dd10",
   "metadata": {},
   "outputs": [],
   "source": [
    "sns.boxplot(x=\"review_score\", y=\"TimeToDeliveryinDays\", data=data)"
   ]
  },
  {
   "cell_type": "code",
   "execution_count": null,
   "id": "2a0749d7-6c37-4985-8dad-20573242f111",
   "metadata": {},
   "outputs": [],
   "source": [
    "# Outliers removal\n",
    "q_high = data[\"TimeToDeliveryinDays\"].quantile(0.95)\n",
    "data_no_outliers = data[data[\"TimeToDeliveryinDays\"] < q_high]\n",
    "sns.boxplot(x=\"review_score\", y=\"TimeToDeliveryinDays\", data=data_no_outliers)"
   ]
  },
  {
   "cell_type": "markdown",
   "id": "6b96aa00-aa0f-46b5-af61-e6a738356361",
   "metadata": {},
   "source": [
    "## What are the sellers' cities with lowest/highest delivery time?"
   ]
  },
  {
   "cell_type": "code",
   "execution_count": null,
   "id": "5b0cc5af-1780-4ff3-b0c3-0cc877304e70",
   "metadata": {},
   "outputs": [],
   "source": [
    "# Let's see sellers with best deliverytime\n",
    "sellersdeliverytime = data.groupby(\"seller_city\")[\"TimeToDeliveryinDays\"].agg([\"min\", \"max\", \"mean\", \"std\", \"count\" ]).dropna().sort_values(\"mean\").reset_index()\n",
    "# Filter for sellers with 30 or more orders in their history\n",
    "sellersdeliverytime = sellersdeliverytime[sellersdeliverytime[\"count\"]>=30]"
   ]
  },
  {
   "cell_type": "code",
   "execution_count": null,
   "id": "ef6015a5-203e-4cf5-aebc-e6c15323c41f",
   "metadata": {},
   "outputs": [],
   "source": [
    "fastestdeliverysellers = sellersdeliverytime[:10]\n",
    "slowestdeliverysellers = sellersdeliverytime.sort_values(\"mean\", ascending=False)[:10]"
   ]
  },
  {
   "cell_type": "code",
   "execution_count": null,
   "id": "bd08e651-b62c-4fc8-93f7-cc4e4b750175",
   "metadata": {},
   "outputs": [],
   "source": [
    "# Fastest delivery sellers\n",
    "fastestdeliverysellers"
   ]
  },
  {
   "cell_type": "code",
   "execution_count": null,
   "id": "0f7f5d53-40e5-4562-b0aa-ca454c527b7b",
   "metadata": {},
   "outputs": [],
   "source": [
    "\n",
    "# Join average review score to table above\n",
    "avg_review_score_seller = data.groupby(\"seller_city\")[\"review_score\"].mean().dropna().sort_values(ascending=False).reset_index()"
   ]
  },
  {
   "cell_type": "code",
   "execution_count": null,
   "id": "de6be9fe-4131-4694-ab60-a57fa2013028",
   "metadata": {},
   "outputs": [],
   "source": [
    "sellerPerf = sellersdeliverytime.merge(avg_review_score_seller, on=\"seller_city\")"
   ]
  },
  {
   "cell_type": "code",
   "execution_count": null,
   "id": "97f13a57-4e84-470e-8c78-fb9066c647b9",
   "metadata": {},
   "outputs": [],
   "source": [
    "# Relationship between average timetodelivery and average review score\n",
    "ax = sns.regplot(x=\"mean\", y=\"review_score\", data=sellerPerf)\n",
    "ax.set_xlabel(\"\")"
   ]
  },
  {
   "cell_type": "markdown",
   "id": "76112f7f-0d7b-49ca-b0c6-8e5c1bbeb86f",
   "metadata": {},
   "source": [
    "판매자가 주문을 배송하는 데 걸리는 시간과 그들이 받은 리뷰 사이에 중간 정도의 부정적인 관계가 있다는 것을 분명히 알 수 있습니다."
   ]
  },
  {
   "cell_type": "code",
   "execution_count": null,
   "id": "3cd66e55-b649-4ff3-9fb1-138220154f1d",
   "metadata": {},
   "outputs": [],
   "source": [
    "# Slowest delivery sellers\n",
    "slowestdeliverysellers"
   ]
  },
  {
   "cell_type": "markdown",
   "id": "28ef1237-d17c-48c6-95a2-f794607eba5b",
   "metadata": {},
   "source": [
    "## States with highest/lowest time to delivery"
   ]
  },
  {
   "cell_type": "code",
   "execution_count": null,
   "id": "a4d75a1f-5b0b-47f3-86c8-c1bc33561115",
   "metadata": {},
   "outputs": [],
   "source": [
    "highestTTDstates = data.groupby(\"customer_state\")[\"TimeToDeliveryinDays\"].mean().dropna().sort_values(ascending=False).reset_index()\n",
    "highestTTDstates = highestTTDstates[:10]\n",
    "ax = sns.barplot(y=\"customer_state\", x=\"TimeToDeliveryinDays\", data=highestTTDstates)"
   ]
  },
  {
   "cell_type": "code",
   "execution_count": null,
   "id": "13c21ca4-a381-4305-88b6-17996dfb07a8",
   "metadata": {},
   "outputs": [],
   "source": [
    "lowestTTDstates = data.groupby(\"customer_state\")[\"TimeToDeliveryinDays\"].mean().dropna().sort_values(ascending=True).reset_index()\n",
    "lowestTTDstates = lowestTTDstates[:10]\n",
    "ax = sns.barplot(y=\"customer_state\", x=\"TimeToDeliveryinDays\", data=lowestTTDstates)"
   ]
  },
  {
   "cell_type": "markdown",
   "id": "9005dcd1-0c79-4a2c-b25c-aafd60d8c0db",
   "metadata": {},
   "source": [
    "## How does average deliverytime vary across time?"
   ]
  },
  {
   "cell_type": "code",
   "execution_count": null,
   "id": "a32293d3-becd-4b6b-be1c-0de9c22adf3a",
   "metadata": {},
   "outputs": [],
   "source": []
  }
 ],
 "metadata": {
  "kernelspec": {
   "display_name": "Python 3 (ipykernel)",
   "language": "python",
   "name": "python3"
  },
  "language_info": {
   "codemirror_mode": {
    "name": "ipython",
    "version": 3
   },
   "file_extension": ".py",
   "mimetype": "text/x-python",
   "name": "python",
   "nbconvert_exporter": "python",
   "pygments_lexer": "ipython3",
   "version": "3.13.1"
  }
 },
 "nbformat": 4,
 "nbformat_minor": 5
}
